{
 "cells": [
  {
   "cell_type": "markdown",
   "metadata": {},
   "source": [
    "# Custom Loss"
   ]
  },
  {
   "cell_type": "markdown",
   "metadata": {},
   "source": [
    "단순 선형 회귀를 활용한 Custom Loss를 만들어 봅니다."
   ]
  },
  {
   "cell_type": "markdown",
   "metadata": {},
   "source": [
    "## import"
   ]
  },
  {
   "cell_type": "code",
   "execution_count": 1,
   "metadata": {
    "colab": {},
    "colab_type": "code",
    "id": "0p84I7yFHRT2"
   },
   "outputs": [],
   "source": [
    "import tensorflow as tf\n",
    "import numpy as np"
   ]
  },
  {
   "cell_type": "markdown",
   "metadata": {},
   "source": [
    "## data\n",
    "\n",
    "더미 데이터를 생성합니다.\n",
    "\n",
    "다음의 데이터는 $y = 2x - 1$ 관계를 가지고 있습니다."
   ]
  },
  {
   "cell_type": "code",
   "execution_count": 2,
   "metadata": {},
   "outputs": [],
   "source": [
    "# inputs\n",
    "xs = np.array([-1.0,  0.0, 1.0, 2.0, 3.0, 4.0], dtype=float)\n",
    "\n",
    "# labels\n",
    "ys = np.array([-3.0, -1.0, 1.0, 3.0, 5.0, 7.0], dtype=float)"
   ]
  },
  {
   "cell_type": "markdown",
   "metadata": {},
   "source": [
    "## train\n",
    "\n",
    "`mean_squared_error` loss를 활용하여 모델을 train합니다."
   ]
  },
  {
   "cell_type": "code",
   "execution_count": 3,
   "metadata": {
    "colab": {},
    "colab_type": "code",
    "id": "2eY7fw0EHwda"
   },
   "outputs": [
    {
     "name": "stdout",
     "output_type": "stream",
     "text": [
      "[[18.981628]]\n"
     ]
    }
   ],
   "source": [
    "model = tf.keras.Sequential([\n",
    "    tf.keras.layers.Dense(units=1, input_shape=[1])\n",
    "])\n",
    "\n",
    "model.compile(optimizer='sgd', loss='mean_squared_error')\n",
    "model.fit(xs, ys, epochs=500,verbose=0)\n",
    "\n",
    "print(model.predict([10.0]))"
   ]
  },
  {
   "cell_type": "markdown",
   "metadata": {},
   "source": [
    "## Custom Loss (1)\n",
    "\n",
    "Custom Loss를 만듭니다.\n",
    "\n",
    "1. 함수를 정의합니다.\n",
    "2. `y_true`와 `y_pred` 변수가 필요합니다.\n",
    "3. 두 label간의 loss 를 계산하여 return 하는 함수로 만듭니다."
   ]
  },
  {
   "cell_type": "code",
   "execution_count": 4,
   "metadata": {
    "colab": {},
    "colab_type": "code",
    "id": "fHtDxE0lI_Hg"
   },
   "outputs": [],
   "source": [
    "def my_huber_loss(y_true, y_pred):\n",
    "    # huber loss threshold\n",
    "    threshold = 1\n",
    "    # error\n",
    "    error = y_true - y_pred\n",
    "    \n",
    "    # small error flag\n",
    "    is_small_error = tf.abs(error) <= threshold\n",
    "    \n",
    "    # l2 loss 적용\n",
    "    small_error_loss = tf.square(error) / 2\n",
    "    \n",
    "    # l1 loss 적용\n",
    "    big_error_loss = threshold * (tf.abs(error) - (0.5 * threshold))\n",
    "    \n",
    "    # return\n",
    "    return tf.where(is_small_error, small_error_loss, big_error_loss)"
   ]
  },
  {
   "cell_type": "markdown",
   "metadata": {},
   "source": [
    " `model.compile()`에서 loss 매개변수에 custom loss를 적용합니다."
   ]
  },
  {
   "cell_type": "code",
   "execution_count": 5,
   "metadata": {
    "colab": {},
    "colab_type": "code",
    "id": "K7rgmb5qH5QX"
   },
   "outputs": [
    {
     "name": "stdout",
     "output_type": "stream",
     "text": [
      "[[18.809072]]\n"
     ]
    }
   ],
   "source": [
    "model = tf.keras.Sequential([\n",
    "    tf.keras.layers.Dense(units=1, input_shape=[1])\n",
    "])\n",
    "\n",
    "model.compile(optimizer='sgd', loss=my_huber_loss)\n",
    "model.fit(xs, ys, epochs=500,verbose=0)\n",
    "\n",
    "# 결과 확인\n",
    "print(model.predict([10.0]))"
   ]
  },
  {
   "cell_type": "markdown",
   "metadata": {},
   "source": [
    "## Custom Loss (2)"
   ]
  },
  {
   "cell_type": "markdown",
   "metadata": {},
   "source": [
    "위의 `my_huber_loss()`는 우리가 `threshold`에 대한 값을 지정할 수 없다는 단점이 존재합니다.\n",
    "\n",
    "만약, `threshold` 값을 parameter로 넘겨 주고 싶다면 어떻게 할까요?"
   ]
  },
  {
   "cell_type": "markdown",
   "metadata": {},
   "source": [
    "### wrapper functions에 대한 이해"
   ]
  },
  {
   "cell_type": "code",
   "execution_count": 6,
   "metadata": {},
   "outputs": [],
   "source": [
    "def outer_func(multiple):\n",
    "    def inner_func(a, b):\n",
    "        result = (a + b) * multiple\n",
    "        return result\n",
    "    return inner_func"
   ]
  },
  {
   "cell_type": "code",
   "execution_count": 7,
   "metadata": {},
   "outputs": [
    {
     "data": {
      "text/plain": [
       "<function __main__.outer_func.<locals>.inner_func(a, b)>"
      ]
     },
     "execution_count": 7,
     "metadata": {},
     "output_type": "execute_result"
    }
   ],
   "source": [
    "outer_func(2)"
   ]
  },
  {
   "cell_type": "code",
   "execution_count": 8,
   "metadata": {},
   "outputs": [
    {
     "data": {
      "text/plain": [
       "8"
      ]
     },
     "execution_count": 8,
     "metadata": {},
     "output_type": "execute_result"
    }
   ],
   "source": [
    "outer_func(2)(1, 3)"
   ]
  },
  {
   "cell_type": "markdown",
   "metadata": {},
   "source": [
    "### wrapper function으로 custom loss 생성"
   ]
  },
  {
   "cell_type": "code",
   "execution_count": 11,
   "metadata": {},
   "outputs": [],
   "source": [
    "def my_huber_loss(threshold=1.0):\n",
    "    def inner_loss(y_true, y_pred):\n",
    "        # huber loss threshold\n",
    "        # threshold = 1\n",
    "        # error\n",
    "        error = y_true - y_pred\n",
    "\n",
    "        # small error flag\n",
    "        is_small_error = tf.abs(error) <= threshold\n",
    "\n",
    "        # l2 loss 적용\n",
    "        small_error_loss = tf.square(error) / 2\n",
    "\n",
    "        # l1 loss 적용\n",
    "        big_error_loss = threshold * (tf.abs(error) - (0.5 * threshold))\n",
    "\n",
    "        # return\n",
    "        return tf.where(is_small_error, small_error_loss, big_error_loss)\n",
    "    return inner_loss"
   ]
  },
  {
   "cell_type": "code",
   "execution_count": 23,
   "metadata": {},
   "outputs": [
    {
     "name": "stdout",
     "output_type": "stream",
     "text": [
      "[[18.636951]]\n"
     ]
    }
   ],
   "source": [
    "model = tf.keras.Sequential([\n",
    "    tf.keras.layers.Dense(units=1, input_shape=[1])\n",
    "])\n",
    "\n",
    "model.compile(optimizer='sgd', loss=my_huber_loss(threshold=1.2))\n",
    "model.fit(xs, ys, epochs=500,verbose=0)\n",
    "\n",
    "# 결과 확인\n",
    "print(model.predict([10.0]))"
   ]
  }
 ],
 "metadata": {
  "colab": {
   "include_colab_link": true,
   "name": "first-loss.ipynb",
   "provenance": []
  },
  "kernelspec": {
   "display_name": "Python 3",
   "language": "python",
   "name": "python3"
  },
  "language_info": {
   "codemirror_mode": {
    "name": "ipython",
    "version": 3
   },
   "file_extension": ".py",
   "mimetype": "text/x-python",
   "name": "python",
   "nbconvert_exporter": "python",
   "pygments_lexer": "ipython3",
   "version": "3.7.9"
  }
 },
 "nbformat": 4,
 "nbformat_minor": 4
}
