{
 "cells": [
  {
   "cell_type": "markdown",
   "metadata": {},
   "source": [
    "# GoogLeNet (2014)"
   ]
  },
  {
   "cell_type": "markdown",
   "metadata": {},
   "source": [
    "[Going Deeper with Convolutions](https://arxiv.org/pdf/1409.4842.pdf)\n",
    "\n",
    "- Author: Christian Szegedy et al. (Google Inc.)"
   ]
  },
  {
   "cell_type": "markdown",
   "metadata": {},
   "source": [
    "## imports"
   ]
  },
  {
   "cell_type": "code",
   "execution_count": 1,
   "metadata": {
    "id": "BVGpJhQ7qyyU"
   },
   "outputs": [],
   "source": [
    "from IPython.display import Image\n",
    "import numpy as np\n",
    "import matplotlib.pyplot as plt\n",
    "import os\n",
    "\n",
    "import tensorflow as tf\n",
    "from tensorflow.keras.datasets import cifar10\n",
    "from tensorflow.keras.preprocessing.image import ImageDataGenerator\n",
    "\n",
    "from tensorflow.keras.layers import concatenate, Input, Conv2D, MaxPooling2D, Dropout, Flatten, add\n",
    "from tensorflow.keras.layers import AveragePooling2D, BatchNormalization, Dense, Activation \n",
    "from tensorflow.keras.models import Model"
   ]
  },
  {
   "cell_type": "code",
   "execution_count": 2,
   "metadata": {},
   "outputs": [
    {
     "data": {
      "text/html": [
       "<img src=\"https://gaussian37.github.io/assets/img/dl/concept/inception/0.png\"/>"
      ],
      "text/plain": [
       "<IPython.core.display.Image object>"
      ]
     },
     "execution_count": 2,
     "metadata": {},
     "output_type": "execute_result"
    }
   ],
   "source": [
    "Image(url='https://gaussian37.github.io/assets/img/dl/concept/inception/0.png')"
   ]
  },
  {
   "cell_type": "markdown",
   "metadata": {},
   "source": [
    "## Prepare Datasets"
   ]
  },
  {
   "cell_type": "code",
   "execution_count": 3,
   "metadata": {},
   "outputs": [],
   "source": [
    "(x_train, y_train), (x_test, y_test) = cifar10.load_data()"
   ]
  },
  {
   "cell_type": "code",
   "execution_count": 4,
   "metadata": {},
   "outputs": [
    {
     "data": {
      "text/plain": [
       "((50000, 32, 32, 3), (50000, 1))"
      ]
     },
     "execution_count": 4,
     "metadata": {},
     "output_type": "execute_result"
    }
   ],
   "source": [
    "x_train.shape, y_train.shape"
   ]
  },
  {
   "cell_type": "code",
   "execution_count": 5,
   "metadata": {},
   "outputs": [
    {
     "data": {
      "text/plain": [
       "((10000, 32, 32, 3), (10000, 1))"
      ]
     },
     "execution_count": 5,
     "metadata": {},
     "output_type": "execute_result"
    }
   ],
   "source": [
    "x_test.shape, y_test.shape"
   ]
  },
  {
   "cell_type": "markdown",
   "metadata": {},
   "source": [
    "image normalization"
   ]
  },
  {
   "cell_type": "code",
   "execution_count": 6,
   "metadata": {},
   "outputs": [],
   "source": [
    "x_train = x_train / 255\n",
    "x_test = x_test / 255"
   ]
  },
  {
   "cell_type": "markdown",
   "metadata": {},
   "source": [
    "Hyperparameter"
   ]
  },
  {
   "cell_type": "code",
   "execution_count": 7,
   "metadata": {},
   "outputs": [],
   "source": [
    "IMAGE_W = 32\n",
    "IMAGE_H = 32\n",
    "IMAGE_C = 3\n",
    "BATCH_SIZE = 32\n",
    "NUM_CLASSES = 10"
   ]
  },
  {
   "cell_type": "markdown",
   "metadata": {},
   "source": [
    "## Model"
   ]
  },
  {
   "cell_type": "markdown",
   "metadata": {},
   "source": [
    "## Inception Module"
   ]
  },
  {
   "cell_type": "code",
   "execution_count": 8,
   "metadata": {},
   "outputs": [
    {
     "data": {
      "text/html": [
       "<img src=\"https://cdn.analyticsvidhya.com/wp-content/uploads/2018/10/Screenshot-from-2018-10-17-11-14-10.png\" width=\"650\"/>"
      ],
      "text/plain": [
       "<IPython.core.display.Image object>"
      ]
     },
     "execution_count": 8,
     "metadata": {},
     "output_type": "execute_result"
    }
   ],
   "source": [
    "Image(url='https://cdn.analyticsvidhya.com/wp-content/uploads/2018/10/Screenshot-from-2018-10-17-11-14-10.png', width=650)"
   ]
  },
  {
   "cell_type": "code",
   "execution_count": 9,
   "metadata": {},
   "outputs": [],
   "source": [
    "def inception(x, filters): \n",
    "    # 1x1, 3x3, 5x5, common 1x1\n",
    "    f1, f2, f3, f4 = filters\n",
    "\n",
    "    # 1x1\n",
    "    conv1 = Conv2D(f1, kernel_size=(1,1), padding='same', activation='relu')(x)\n",
    "    \n",
    "    # 1x1 & 3x3\n",
    "    conv2 = Conv2D(f4, kernel_size=(1,1), padding='same', activation='relu')(x)\n",
    "    conv2 = Conv2D(f2, kernel_size=(3,3), padding='same', activation='relu')(conv2)\n",
    "\n",
    "    # 1x1 & 5x5\n",
    "    conv3 = Conv2D(f4, kernel_size=(1,1), padding='same', activation='relu')(x)\n",
    "    conv3 = Conv2D(f3, kernel_size=(5,5), padding='same', activation='relu')(conv3)\n",
    "    \n",
    "    # pooling & 1x1\n",
    "    maxpool = MaxPooling2D(pool_size=(3,3), strides=1, padding='same')(x)\n",
    "    maxpool = Conv2D(f4, kernel_size=(1,1), padding='same')(maxpool)\n",
    "\n",
    "    # concatenate 시 (batch, w, h, c) 참고\n",
    "    output_ = concatenate([conv1, conv2, conv3, maxpool], axis=-1)\n",
    "    return output_"
   ]
  },
  {
   "cell_type": "code",
   "execution_count": 10,
   "metadata": {},
   "outputs": [
    {
     "data": {
      "text/html": [
       "<img src=\"https://media.geeksforgeeks.org/wp-content/uploads/20200429201421/Inception-layer-by-layer.PNG\"/>"
      ],
      "text/plain": [
       "<IPython.core.display.Image object>"
      ]
     },
     "execution_count": 10,
     "metadata": {},
     "output_type": "execute_result"
    }
   ],
   "source": [
    "Image(url='https://media.geeksforgeeks.org/wp-content/uploads/20200429201421/Inception-layer-by-layer.PNG')"
   ]
  },
  {
   "cell_type": "code",
   "execution_count": 11,
   "metadata": {},
   "outputs": [],
   "source": [
    "IMAGE_W = 32\n",
    "IMAGE_H = 32"
   ]
  },
  {
   "cell_type": "code",
   "execution_count": 12,
   "metadata": {},
   "outputs": [],
   "source": [
    "input_shape = (IMAGE_W, IMAGE_H, IMAGE_C)   \n",
    "inputs = Input(shape=input_shape)\n",
    "\n",
    "# conv\n",
    "x = Conv2D(64, kernel_size=(7, 7), strides=2, padding='same', activation='relu')(inputs)\n",
    "\n",
    "# maxpool\n",
    "# x = MaxPooling2D(2, 2)(x)\n",
    "\n",
    "# normalization\n",
    "x = BatchNormalization()(x)\n",
    "\n",
    "# conv\n",
    "x = Conv2D(192, kernel_size=(3, 3), strides=1, padding='same', activation='relu')(x)\n",
    "\n",
    "# maxpool\n",
    "# x = MaxPooling2D(2, 2)(x)\n",
    "\n",
    "# normalization\n",
    "x = BatchNormalization()(x)\n",
    "\n",
    "# inception 3a\n",
    "# 64, 128, 32, 32\n",
    "x = inception(x,[64, 128, 32, 32])\n",
    "\n",
    "# inception 3b\n",
    "# 128, 192, 96, 64\n",
    "x = inception(x,[128, 192, 96, 64])\n",
    "\n",
    "# maxpool\n",
    "x = MaxPooling2D(pool_size=(3, 3), strides=2, padding='same')(x)\n",
    "\n",
    "# inception 4a\n",
    "# 192, 208, 48, 64\n",
    "x = inception(x,[192, 208, 48, 64])\n",
    "\n",
    "# aux1\n",
    "aux1 = Flatten()(x)\n",
    "aux1 = Dense(512, activation='relu')(aux1)\n",
    "aux1 = Dense(NUM_CLASSES, activation='softmax', name='aux1')(aux1)\n",
    "\n",
    "# inception 4b\n",
    "# 160, 224, 64, 64\n",
    "x = inception(x,[160, 224, 64, 64])\n",
    "\n",
    "# inception 4c\n",
    "# 128, 256, 64, 64\n",
    "x = inception(x,[128, 256, 64, 64])\n",
    "\n",
    "# inception 4d\n",
    "# 112, 288, 64, 64\n",
    "x = inception(x,[112, 288, 64, 64])\n",
    "\n",
    "# aux2\n",
    "aux2 = Flatten()(x)\n",
    "aux2 = Dense(832, activation='relu')(aux2)\n",
    "aux2 = Dense(NUM_CLASSES, activation='softmax', name='aux2')(aux2)\n",
    "\n",
    "# inception 4e\n",
    "# 256, 320, 128, 128\n",
    "x = inception(x,[256, 320, 128, 128])\n",
    "\n",
    "# maxpool\n",
    "# x = MaxPooling2D(pool_size=(3, 3), strides=2, padding='same')(x)\n",
    "\n",
    "# inception 5a\n",
    "# 256, 320, 128, 128\n",
    "x = inception(x,[256, 320, 128, 128])\n",
    "\n",
    "# inception 5b\n",
    "# 384, 384, 128, 128\n",
    "x = inception(x,[384, 384, 128, 128])\n",
    "\n",
    "# average pooling\n",
    "x = AveragePooling2D(pool_size=(4, 4), padding='valid')(x)\n",
    "\n",
    "# flatten\n",
    "x = Flatten()(x)\n",
    "\n",
    "# dropout\n",
    "x = Dropout(0.4)(x)\n",
    "\n",
    "# FC\n",
    "x = Dense(1000)(x)\n",
    "\n",
    "output_ = Dense(NUM_CLASSES, activation='softmax', name='output')(x)\n",
    "\n",
    "model = Model(inputs=inputs, outputs=[aux1, aux2, output_])"
   ]
  },
  {
   "cell_type": "code",
   "execution_count": 13,
   "metadata": {
    "scrolled": true
   },
   "outputs": [
    {
     "data": {
      "text/html": [
       "<img src=\"https://media.geeksforgeeks.org/wp-content/uploads/20200429201421/Inception-layer-by-layer.PNG\"/>"
      ],
      "text/plain": [
       "<IPython.core.display.Image object>"
      ]
     },
     "execution_count": 13,
     "metadata": {},
     "output_type": "execute_result"
    }
   ],
   "source": [
    "Image(url='https://media.geeksforgeeks.org/wp-content/uploads/20200429201421/Inception-layer-by-layer.PNG')"
   ]
  },
  {
   "cell_type": "code",
   "execution_count": 14,
   "metadata": {},
   "outputs": [
    {
     "name": "stdout",
     "output_type": "stream",
     "text": [
      "Model: \"model\"\n",
      "__________________________________________________________________________________________________\n",
      "Layer (type)                    Output Shape         Param #     Connected to                     \n",
      "==================================================================================================\n",
      "input_1 (InputLayer)            [(None, 32, 32, 3)]  0                                            \n",
      "__________________________________________________________________________________________________\n",
      "conv2d (Conv2D)                 (None, 16, 16, 64)   9472        input_1[0][0]                    \n",
      "__________________________________________________________________________________________________\n",
      "batch_normalization (BatchNorma (None, 16, 16, 64)   256         conv2d[0][0]                     \n",
      "__________________________________________________________________________________________________\n",
      "conv2d_1 (Conv2D)               (None, 16, 16, 192)  110784      batch_normalization[0][0]        \n",
      "__________________________________________________________________________________________________\n",
      "batch_normalization_1 (BatchNor (None, 16, 16, 192)  768         conv2d_1[0][0]                   \n",
      "__________________________________________________________________________________________________\n",
      "conv2d_3 (Conv2D)               (None, 16, 16, 32)   6176        batch_normalization_1[0][0]      \n",
      "__________________________________________________________________________________________________\n",
      "conv2d_5 (Conv2D)               (None, 16, 16, 32)   6176        batch_normalization_1[0][0]      \n",
      "__________________________________________________________________________________________________\n",
      "max_pooling2d (MaxPooling2D)    (None, 16, 16, 192)  0           batch_normalization_1[0][0]      \n",
      "__________________________________________________________________________________________________\n",
      "conv2d_2 (Conv2D)               (None, 16, 16, 64)   12352       batch_normalization_1[0][0]      \n",
      "__________________________________________________________________________________________________\n",
      "conv2d_4 (Conv2D)               (None, 16, 16, 128)  36992       conv2d_3[0][0]                   \n",
      "__________________________________________________________________________________________________\n",
      "conv2d_6 (Conv2D)               (None, 16, 16, 32)   25632       conv2d_5[0][0]                   \n",
      "__________________________________________________________________________________________________\n",
      "conv2d_7 (Conv2D)               (None, 16, 16, 32)   6176        max_pooling2d[0][0]              \n",
      "__________________________________________________________________________________________________\n",
      "concatenate (Concatenate)       (None, 16, 16, 256)  0           conv2d_2[0][0]                   \n",
      "                                                                 conv2d_4[0][0]                   \n",
      "                                                                 conv2d_6[0][0]                   \n",
      "                                                                 conv2d_7[0][0]                   \n",
      "__________________________________________________________________________________________________\n",
      "conv2d_9 (Conv2D)               (None, 16, 16, 64)   16448       concatenate[0][0]                \n",
      "__________________________________________________________________________________________________\n",
      "conv2d_11 (Conv2D)              (None, 16, 16, 64)   16448       concatenate[0][0]                \n",
      "__________________________________________________________________________________________________\n",
      "max_pooling2d_1 (MaxPooling2D)  (None, 16, 16, 256)  0           concatenate[0][0]                \n",
      "__________________________________________________________________________________________________\n",
      "conv2d_8 (Conv2D)               (None, 16, 16, 128)  32896       concatenate[0][0]                \n",
      "__________________________________________________________________________________________________\n",
      "conv2d_10 (Conv2D)              (None, 16, 16, 192)  110784      conv2d_9[0][0]                   \n",
      "__________________________________________________________________________________________________\n",
      "conv2d_12 (Conv2D)              (None, 16, 16, 96)   153696      conv2d_11[0][0]                  \n",
      "__________________________________________________________________________________________________\n",
      "conv2d_13 (Conv2D)              (None, 16, 16, 64)   16448       max_pooling2d_1[0][0]            \n",
      "__________________________________________________________________________________________________\n",
      "concatenate_1 (Concatenate)     (None, 16, 16, 480)  0           conv2d_8[0][0]                   \n",
      "                                                                 conv2d_10[0][0]                  \n",
      "                                                                 conv2d_12[0][0]                  \n",
      "                                                                 conv2d_13[0][0]                  \n",
      "__________________________________________________________________________________________________\n",
      "max_pooling2d_2 (MaxPooling2D)  (None, 8, 8, 480)    0           concatenate_1[0][0]              \n",
      "__________________________________________________________________________________________________\n",
      "conv2d_15 (Conv2D)              (None, 8, 8, 64)     30784       max_pooling2d_2[0][0]            \n",
      "__________________________________________________________________________________________________\n",
      "conv2d_17 (Conv2D)              (None, 8, 8, 64)     30784       max_pooling2d_2[0][0]            \n",
      "__________________________________________________________________________________________________\n",
      "max_pooling2d_3 (MaxPooling2D)  (None, 8, 8, 480)    0           max_pooling2d_2[0][0]            \n",
      "__________________________________________________________________________________________________\n",
      "conv2d_14 (Conv2D)              (None, 8, 8, 192)    92352       max_pooling2d_2[0][0]            \n",
      "__________________________________________________________________________________________________\n",
      "conv2d_16 (Conv2D)              (None, 8, 8, 208)    120016      conv2d_15[0][0]                  \n",
      "__________________________________________________________________________________________________\n",
      "conv2d_18 (Conv2D)              (None, 8, 8, 48)     76848       conv2d_17[0][0]                  \n",
      "__________________________________________________________________________________________________\n",
      "conv2d_19 (Conv2D)              (None, 8, 8, 64)     30784       max_pooling2d_3[0][0]            \n",
      "__________________________________________________________________________________________________\n",
      "concatenate_2 (Concatenate)     (None, 8, 8, 512)    0           conv2d_14[0][0]                  \n",
      "                                                                 conv2d_16[0][0]                  \n",
      "                                                                 conv2d_18[0][0]                  \n",
      "                                                                 conv2d_19[0][0]                  \n",
      "__________________________________________________________________________________________________\n",
      "conv2d_21 (Conv2D)              (None, 8, 8, 64)     32832       concatenate_2[0][0]              \n",
      "__________________________________________________________________________________________________\n",
      "conv2d_23 (Conv2D)              (None, 8, 8, 64)     32832       concatenate_2[0][0]              \n",
      "__________________________________________________________________________________________________\n",
      "max_pooling2d_4 (MaxPooling2D)  (None, 8, 8, 512)    0           concatenate_2[0][0]              \n",
      "__________________________________________________________________________________________________\n",
      "conv2d_20 (Conv2D)              (None, 8, 8, 160)    82080       concatenate_2[0][0]              \n",
      "__________________________________________________________________________________________________\n",
      "conv2d_22 (Conv2D)              (None, 8, 8, 224)    129248      conv2d_21[0][0]                  \n",
      "__________________________________________________________________________________________________\n",
      "conv2d_24 (Conv2D)              (None, 8, 8, 64)     102464      conv2d_23[0][0]                  \n",
      "__________________________________________________________________________________________________\n",
      "conv2d_25 (Conv2D)              (None, 8, 8, 64)     32832       max_pooling2d_4[0][0]            \n",
      "__________________________________________________________________________________________________\n",
      "concatenate_3 (Concatenate)     (None, 8, 8, 512)    0           conv2d_20[0][0]                  \n",
      "                                                                 conv2d_22[0][0]                  \n",
      "                                                                 conv2d_24[0][0]                  \n",
      "                                                                 conv2d_25[0][0]                  \n",
      "__________________________________________________________________________________________________\n",
      "conv2d_27 (Conv2D)              (None, 8, 8, 64)     32832       concatenate_3[0][0]              \n",
      "__________________________________________________________________________________________________\n",
      "conv2d_29 (Conv2D)              (None, 8, 8, 64)     32832       concatenate_3[0][0]              \n",
      "__________________________________________________________________________________________________\n",
      "max_pooling2d_5 (MaxPooling2D)  (None, 8, 8, 512)    0           concatenate_3[0][0]              \n",
      "__________________________________________________________________________________________________\n",
      "conv2d_26 (Conv2D)              (None, 8, 8, 128)    65664       concatenate_3[0][0]              \n",
      "__________________________________________________________________________________________________\n",
      "conv2d_28 (Conv2D)              (None, 8, 8, 256)    147712      conv2d_27[0][0]                  \n",
      "__________________________________________________________________________________________________\n",
      "conv2d_30 (Conv2D)              (None, 8, 8, 64)     102464      conv2d_29[0][0]                  \n",
      "__________________________________________________________________________________________________\n",
      "conv2d_31 (Conv2D)              (None, 8, 8, 64)     32832       max_pooling2d_5[0][0]            \n",
      "__________________________________________________________________________________________________\n",
      "concatenate_4 (Concatenate)     (None, 8, 8, 512)    0           conv2d_26[0][0]                  \n",
      "                                                                 conv2d_28[0][0]                  \n",
      "                                                                 conv2d_30[0][0]                  \n",
      "                                                                 conv2d_31[0][0]                  \n",
      "__________________________________________________________________________________________________\n",
      "conv2d_33 (Conv2D)              (None, 8, 8, 64)     32832       concatenate_4[0][0]              \n",
      "__________________________________________________________________________________________________\n",
      "conv2d_35 (Conv2D)              (None, 8, 8, 64)     32832       concatenate_4[0][0]              \n",
      "__________________________________________________________________________________________________\n",
      "max_pooling2d_6 (MaxPooling2D)  (None, 8, 8, 512)    0           concatenate_4[0][0]              \n",
      "__________________________________________________________________________________________________\n",
      "conv2d_32 (Conv2D)              (None, 8, 8, 112)    57456       concatenate_4[0][0]              \n",
      "__________________________________________________________________________________________________\n",
      "conv2d_34 (Conv2D)              (None, 8, 8, 288)    166176      conv2d_33[0][0]                  \n",
      "__________________________________________________________________________________________________\n",
      "conv2d_36 (Conv2D)              (None, 8, 8, 64)     102464      conv2d_35[0][0]                  \n",
      "__________________________________________________________________________________________________\n",
      "conv2d_37 (Conv2D)              (None, 8, 8, 64)     32832       max_pooling2d_6[0][0]            \n",
      "__________________________________________________________________________________________________\n",
      "concatenate_5 (Concatenate)     (None, 8, 8, 528)    0           conv2d_32[0][0]                  \n",
      "                                                                 conv2d_34[0][0]                  \n",
      "                                                                 conv2d_36[0][0]                  \n",
      "                                                                 conv2d_37[0][0]                  \n",
      "__________________________________________________________________________________________________\n",
      "conv2d_39 (Conv2D)              (None, 8, 8, 128)    67712       concatenate_5[0][0]              \n",
      "__________________________________________________________________________________________________\n",
      "conv2d_41 (Conv2D)              (None, 8, 8, 128)    67712       concatenate_5[0][0]              \n",
      "__________________________________________________________________________________________________\n",
      "max_pooling2d_7 (MaxPooling2D)  (None, 8, 8, 528)    0           concatenate_5[0][0]              \n",
      "__________________________________________________________________________________________________\n",
      "conv2d_38 (Conv2D)              (None, 8, 8, 256)    135424      concatenate_5[0][0]              \n",
      "__________________________________________________________________________________________________\n",
      "conv2d_40 (Conv2D)              (None, 8, 8, 320)    368960      conv2d_39[0][0]                  \n",
      "__________________________________________________________________________________________________\n",
      "conv2d_42 (Conv2D)              (None, 8, 8, 128)    409728      conv2d_41[0][0]                  \n",
      "__________________________________________________________________________________________________\n",
      "conv2d_43 (Conv2D)              (None, 8, 8, 128)    67712       max_pooling2d_7[0][0]            \n",
      "__________________________________________________________________________________________________\n",
      "concatenate_6 (Concatenate)     (None, 8, 8, 832)    0           conv2d_38[0][0]                  \n",
      "                                                                 conv2d_40[0][0]                  \n",
      "                                                                 conv2d_42[0][0]                  \n",
      "                                                                 conv2d_43[0][0]                  \n",
      "__________________________________________________________________________________________________\n",
      "conv2d_45 (Conv2D)              (None, 8, 8, 128)    106624      concatenate_6[0][0]              \n",
      "__________________________________________________________________________________________________\n",
      "conv2d_47 (Conv2D)              (None, 8, 8, 128)    106624      concatenate_6[0][0]              \n",
      "__________________________________________________________________________________________________\n",
      "max_pooling2d_8 (MaxPooling2D)  (None, 8, 8, 832)    0           concatenate_6[0][0]              \n",
      "__________________________________________________________________________________________________\n",
      "conv2d_44 (Conv2D)              (None, 8, 8, 256)    213248      concatenate_6[0][0]              \n",
      "__________________________________________________________________________________________________\n",
      "conv2d_46 (Conv2D)              (None, 8, 8, 320)    368960      conv2d_45[0][0]                  \n",
      "__________________________________________________________________________________________________\n",
      "conv2d_48 (Conv2D)              (None, 8, 8, 128)    409728      conv2d_47[0][0]                  \n",
      "__________________________________________________________________________________________________\n",
      "conv2d_49 (Conv2D)              (None, 8, 8, 128)    106624      max_pooling2d_8[0][0]            \n",
      "__________________________________________________________________________________________________\n",
      "concatenate_7 (Concatenate)     (None, 8, 8, 832)    0           conv2d_44[0][0]                  \n",
      "                                                                 conv2d_46[0][0]                  \n",
      "                                                                 conv2d_48[0][0]                  \n",
      "                                                                 conv2d_49[0][0]                  \n",
      "__________________________________________________________________________________________________\n",
      "conv2d_51 (Conv2D)              (None, 8, 8, 128)    106624      concatenate_7[0][0]              \n",
      "__________________________________________________________________________________________________\n",
      "conv2d_53 (Conv2D)              (None, 8, 8, 128)    106624      concatenate_7[0][0]              \n",
      "__________________________________________________________________________________________________\n",
      "max_pooling2d_9 (MaxPooling2D)  (None, 8, 8, 832)    0           concatenate_7[0][0]              \n",
      "__________________________________________________________________________________________________\n",
      "conv2d_50 (Conv2D)              (None, 8, 8, 384)    319872      concatenate_7[0][0]              \n",
      "__________________________________________________________________________________________________\n",
      "conv2d_52 (Conv2D)              (None, 8, 8, 384)    442752      conv2d_51[0][0]                  \n",
      "__________________________________________________________________________________________________\n",
      "conv2d_54 (Conv2D)              (None, 8, 8, 128)    409728      conv2d_53[0][0]                  \n",
      "__________________________________________________________________________________________________\n",
      "conv2d_55 (Conv2D)              (None, 8, 8, 128)    106624      max_pooling2d_9[0][0]            \n",
      "__________________________________________________________________________________________________\n",
      "concatenate_8 (Concatenate)     (None, 8, 8, 1024)   0           conv2d_50[0][0]                  \n",
      "                                                                 conv2d_52[0][0]                  \n",
      "                                                                 conv2d_54[0][0]                  \n",
      "                                                                 conv2d_55[0][0]                  \n",
      "__________________________________________________________________________________________________\n",
      "average_pooling2d (AveragePooli (None, 2, 2, 1024)   0           concatenate_8[0][0]              \n",
      "__________________________________________________________________________________________________\n",
      "flatten_2 (Flatten)             (None, 4096)         0           average_pooling2d[0][0]          \n",
      "__________________________________________________________________________________________________\n",
      "flatten (Flatten)               (None, 32768)        0           concatenate_2[0][0]              \n",
      "__________________________________________________________________________________________________\n",
      "flatten_1 (Flatten)             (None, 33792)        0           concatenate_5[0][0]              \n",
      "__________________________________________________________________________________________________\n",
      "dropout (Dropout)               (None, 4096)         0           flatten_2[0][0]                  \n",
      "__________________________________________________________________________________________________\n",
      "dense (Dense)                   (None, 512)          16777728    flatten[0][0]                    \n",
      "__________________________________________________________________________________________________\n",
      "dense_1 (Dense)                 (None, 832)          28115776    flatten_1[0][0]                  \n",
      "__________________________________________________________________________________________________\n",
      "dense_2 (Dense)                 (None, 1000)         4097000     dropout[0][0]                    \n",
      "__________________________________________________________________________________________________\n",
      "aux1 (Dense)                    (None, 10)           5130        dense[0][0]                      \n",
      "__________________________________________________________________________________________________\n",
      "aux2 (Dense)                    (None, 10)           8330        dense_1[0][0]                    \n",
      "__________________________________________________________________________________________________\n",
      "output (Dense)                  (None, 10)           10010       dense_2[0][0]                    \n",
      "==================================================================================================\n",
      "Total params: 55,129,542\n",
      "Trainable params: 55,129,030\n",
      "Non-trainable params: 512\n",
      "__________________________________________________________________________________________________\n"
     ]
    }
   ],
   "source": [
    "model.summary()"
   ]
  },
  {
   "cell_type": "code",
   "execution_count": 15,
   "metadata": {
    "colab": {
     "base_uri": "https://localhost:8080/"
    },
    "id": "S5GUoVJcIZVP",
    "outputId": "feac9884-d4cd-43e0-884c-c2ba6e6842bf"
   },
   "outputs": [],
   "source": [
    "model.compile(optimizer='adam', loss='sparse_categorical_crossentropy', metrics=['acc'])"
   ]
  },
  {
   "cell_type": "markdown",
   "metadata": {},
   "source": [
    "## fit()"
   ]
  },
  {
   "cell_type": "code",
   "execution_count": 16,
   "metadata": {},
   "outputs": [],
   "source": [
    "EPOCHS = 10"
   ]
  },
  {
   "cell_type": "code",
   "execution_count": 17,
   "metadata": {
    "scrolled": true
   },
   "outputs": [
    {
     "name": "stdout",
     "output_type": "stream",
     "text": [
      "Epoch 1/10\n",
      "1563/1563 [==============================] - 47s 27ms/step - loss: 5.8205 - aux1_loss: 2.0387 - aux2_loss: 1.8961 - output_loss: 1.8857 - aux1_acc: 0.4102 - aux2_acc: 0.3713 - output_acc: 0.3218 - val_loss: 4.3484 - val_aux1_loss: 1.2973 - val_aux2_loss: 1.4177 - val_output_loss: 1.6334 - val_aux1_acc: 0.5476 - val_aux2_acc: 0.5169 - val_output_acc: 0.4376\n",
      "Epoch 2/10\n",
      "1563/1563 [==============================] - 42s 27ms/step - loss: 3.3632 - aux1_loss: 1.0022 - aux2_loss: 1.1074 - output_loss: 1.2536 - aux1_acc: 0.6438 - aux2_acc: 0.6064 - output_acc: 0.5483 - val_loss: 2.9658 - val_aux1_loss: 0.9143 - val_aux2_loss: 0.9802 - val_output_loss: 1.0713 - val_aux1_acc: 0.6763 - val_aux2_acc: 0.6518 - val_output_acc: 0.6105\n",
      "Epoch 3/10\n",
      "1563/1563 [==============================] - 42s 27ms/step - loss: 2.6361 - aux1_loss: 0.7788 - aux2_loss: 0.8649 - output_loss: 0.9924 - aux1_acc: 0.7315 - aux2_acc: 0.6980 - output_acc: 0.6540 - val_loss: 3.0027 - val_aux1_loss: 0.9207 - val_aux2_loss: 1.0148 - val_output_loss: 1.0671 - val_aux1_acc: 0.6823 - val_aux2_acc: 0.6561 - val_output_acc: 0.6318\n",
      "Epoch 4/10\n",
      "1563/1563 [==============================] - 42s 27ms/step - loss: 2.2631 - aux1_loss: 0.6572 - aux2_loss: 0.7473 - output_loss: 0.8586 - aux1_acc: 0.7707 - aux2_acc: 0.7414 - output_acc: 0.7048 - val_loss: 2.5375 - val_aux1_loss: 0.7774 - val_aux2_loss: 0.8374 - val_output_loss: 0.9228 - val_aux1_acc: 0.7420 - val_aux2_acc: 0.7249 - val_output_acc: 0.6978\n",
      "Epoch 5/10\n",
      "1563/1563 [==============================] - 42s 27ms/step - loss: 1.9134 - aux1_loss: 0.5467 - aux2_loss: 0.6349 - output_loss: 0.7319 - aux1_acc: 0.8112 - aux2_acc: 0.7834 - output_acc: 0.7484 - val_loss: 2.3937 - val_aux1_loss: 0.7589 - val_aux2_loss: 0.7864 - val_output_loss: 0.8484 - val_aux1_acc: 0.7447 - val_aux2_acc: 0.7318 - val_output_acc: 0.7082\n",
      "Epoch 6/10\n",
      "1563/1563 [==============================] - 42s 27ms/step - loss: 1.7145 - aux1_loss: 0.4748 - aux2_loss: 0.5752 - output_loss: 0.6644 - aux1_acc: 0.8354 - aux2_acc: 0.8034 - output_acc: 0.7739 - val_loss: 2.6341 - val_aux1_loss: 0.8438 - val_aux2_loss: 0.8522 - val_output_loss: 0.9381 - val_aux1_acc: 0.7342 - val_aux2_acc: 0.7261 - val_output_acc: 0.6953\n",
      "Epoch 7/10\n",
      "1563/1563 [==============================] - 42s 27ms/step - loss: 1.4929 - aux1_loss: 0.3875 - aux2_loss: 0.5087 - output_loss: 0.5967 - aux1_acc: 0.8668 - aux2_acc: 0.8244 - output_acc: 0.7975 - val_loss: 2.4786 - val_aux1_loss: 0.7823 - val_aux2_loss: 0.7759 - val_output_loss: 0.9204 - val_aux1_acc: 0.7530 - val_aux2_acc: 0.7462 - val_output_acc: 0.7042\n",
      "Epoch 8/10\n",
      "1563/1563 [==============================] - 42s 27ms/step - loss: 1.3228 - aux1_loss: 0.3292 - aux2_loss: 0.4526 - output_loss: 0.5410 - aux1_acc: 0.8838 - aux2_acc: 0.8433 - output_acc: 0.8141 - val_loss: 2.2504 - val_aux1_loss: 0.7662 - val_aux2_loss: 0.7230 - val_output_loss: 0.7612 - val_aux1_acc: 0.7741 - val_aux2_acc: 0.7668 - val_output_acc: 0.7591\n",
      "Epoch 9/10\n",
      "1563/1563 [==============================] - 42s 27ms/step - loss: 1.1822 - aux1_loss: 0.2799 - aux2_loss: 0.4106 - output_loss: 0.4917 - aux1_acc: 0.9027 - aux2_acc: 0.8573 - output_acc: 0.8318 - val_loss: 2.3322 - val_aux1_loss: 0.7651 - val_aux2_loss: 0.7469 - val_output_loss: 0.8201 - val_aux1_acc: 0.7877 - val_aux2_acc: 0.7779 - val_output_acc: 0.7527\n",
      "Epoch 10/10\n",
      "1563/1563 [==============================] - 42s 27ms/step - loss: 1.0659 - aux1_loss: 0.2447 - aux2_loss: 0.3730 - output_loss: 0.4482 - aux1_acc: 0.9167 - aux2_acc: 0.8724 - output_acc: 0.8483 - val_loss: 2.2479 - val_aux1_loss: 0.8364 - val_aux2_loss: 0.7200 - val_output_loss: 0.6915 - val_aux1_acc: 0.7836 - val_aux2_acc: 0.7857 - val_output_acc: 0.7784\n"
     ]
    }
   ],
   "source": [
    "history = model.fit(x_train, y_train, \n",
    "                    validation_data=(x_test, y_test), \n",
    "                    epochs=EPOCHS\n",
    "                   )"
   ]
  },
  {
   "cell_type": "markdown",
   "metadata": {},
   "source": [
    "## 시각화"
   ]
  },
  {
   "cell_type": "code",
   "execution_count": 28,
   "metadata": {
    "colab": {
     "base_uri": "https://localhost:8080/",
     "height": 866
    },
    "id": "K18B4z-fTkb2",
    "outputId": "d640f61e-db76-404a-8334-05700efee0f7"
   },
   "outputs": [
    {
     "data": {
      "image/png": "[encoded data removed]",
      "text/plain": [
       "<Figure size 720x432 with 1 Axes>"
      ]
     },
     "metadata": {
      "needs_background": "light"
     },
     "output_type": "display_data"
    }
   ],
   "source": [
    "fig, ax1 = plt.subplots()\n",
    "fig.set_size_inches((10, 6))\n",
    "\n",
    "ax1.set_xlabel('Epochs')\n",
    "ax1.set_ylabel('loss')\n",
    "ax1.plot(range(EPOCHS), history.history['aux1_loss'], label='aux1_loss', linestyle=':', color='tomato')\n",
    "ax1.plot(range(EPOCHS), history.history['aux2_loss'], label='aux2_loss', linestyle=':', color='tomato')\n",
    "ax1.plot(range(EPOCHS), history.history['output_loss'], label='output_loss', linestyle=':', color='red')\n",
    "ax1.plot(range(EPOCHS), history.history['val_aux1_loss'], label='val_aux1_loss', color='navy')\n",
    "ax1.plot(range(EPOCHS), history.history['val_aux2_loss'], label='val_aux2_loss', color='navy')\n",
    "ax1.plot(range(EPOCHS), history.history['val_output_loss'], label='val_output_loss', color='black')\n",
    "ax1.tick_params(axis='y', labelcolor=color)\n",
    "ax1.legend(loc='upper right')\n",
    "\n",
    "plt.tight_layout()\n",
    "plt.title('Errors', fontsize=15)\n",
    "plt.show()"
   ]
  }
 ],
 "metadata": {
  "accelerator": "GPU",
  "colab": {
   "name": "alexnet_final.ipynb",
   "provenance": []
  },
  "kernelspec": {
   "display_name": "Python 3",
   "language": "python",
   "name": "python3"
  },
  "language_info": {
   "codemirror_mode": {
    "name": "ipython",
    "version": 3
   },
   "file_extension": ".py",
   "mimetype": "text/x-python",
   "name": "python",
   "nbconvert_exporter": "python",
   "pygments_lexer": "ipython3",
   "version": "3.7.9"
  }
 },
 "nbformat": 4,
 "nbformat_minor": 1
}
